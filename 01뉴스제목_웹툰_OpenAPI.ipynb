{
 "cells": [
  {
   "cell_type": "markdown",
   "id": "eb0bfa44",
   "metadata": {},
   "source": [
    "## 1. 뉴스제목 가져오기\n",
    "* user-agent 요청헤더를 반드시 설정해야 한다."
   ]
  },
  {
   "cell_type": "code",
   "execution_count": 1,
   "id": "f0d27781",
   "metadata": {},
   "outputs": [
    {
     "name": "stdout",
     "output_type": "stream",
     "text": [
      "Name: requests\n",
      "Version: 2.32.3\n",
      "Summary: Python HTTP for Humans.\n",
      "Home-page: https://requests.readthedocs.io\n",
      "Author: Kenneth Reitz\n",
      "Author-email: me@kennethreitz.org\n",
      "License: Apache-2.0\n",
      "Location: C:\\Users\\User\\anaconda3\\Lib\\site-packages\n",
      "Requires: certifi, charset-normalizer, idna, urllib3\n",
      "Required-by: anaconda-catalogs, anaconda-client, anaconda-cloud-auth, anaconda-project, conda, conda-build, conda-repo-cli, conda_package_streaming, cookiecutter, datashader, jupyterlab_server, panel, requests-file, requests-toolbelt, Sphinx, streamlit, tldextract\n"
     ]
    }
   ],
   "source": [
    "# requests 라이브러리 설치여부 확인\n",
    "!pip show requests"
   ]
  },
  {
   "cell_type": "code",
   "execution_count": 2,
   "id": "f7798ea8",
   "metadata": {},
   "outputs": [
    {
     "name": "stdout",
     "output_type": "stream",
     "text": [
      "Name: beautifulsoup4\n",
      "Version: 4.12.3\n",
      "Summary: Screen-scraping library\n",
      "Home-page: https://www.crummy.com/software/BeautifulSoup/bs4/\n",
      "Author: \n",
      "Author-email: Leonard Richardson <leonardr@segfault.org>\n",
      "License: MIT License\n",
      "Location: C:\\Users\\User\\anaconda3\\Lib\\site-packages\n",
      "Requires: soupsieve\n",
      "Required-by: conda-build, nbconvert\n"
     ]
    }
   ],
   "source": [
    "# beautifulsoup4 라이브러리 설치여부 확인\n",
    "!pip show beautifulsoup4"
   ]
  },
  {
   "cell_type": "code",
   "execution_count": 10,
   "id": "bf80a429",
   "metadata": {},
   "outputs": [],
   "source": [
    "# reqeusts, bs4 import\n",
    "import requests\n",
    "# BeautifulSoup 클래스 import\n",
    "import bs4\n",
    "# BeautifulSoup 클래스 immport\n",
    "from bs4 import BeautifulSoup"
   ]
  },
  {
   "cell_type": "code",
   "execution_count": 11,
   "id": "9788d6ac",
   "metadata": {},
   "outputs": [
    {
     "name": "stdout",
     "output_type": "stream",
     "text": [
      "requests 버전 = 2.32.3\n",
      "bs4 버전 = 4.12.3\n"
     ]
    }
   ],
   "source": [
    "# requests, bs4 버전 확인하기\n",
    "print(f'requests 버전 = {requests.__version__}')\n",
    "print(f'bs4 버전 = {bs4.__version__}')"
   ]
  },
  {
   "cell_type": "markdown",
   "id": "ccb91def-cde3-4aeb-b0e5-2e7233500333",
   "metadata": {},
   "source": [
    "### 1. 뉴스 제목 추출하기"
   ]
  },
  {
   "cell_type": "code",
   "execution_count": 32,
   "id": "94c12fd6",
   "metadata": {},
   "outputs": [
    {
     "name": "stdout",
     "output_type": "stream",
     "text": [
      "https://news.naver.com/section/105\n"
     ]
    }
   ],
   "source": [
    "# IT/과학 뉴스 \n",
    "req_param = {\n",
    "    'sid': 105\n",
    "}\n",
    "\n",
    "sid = 104\n",
    "#url = f'https://news.naver.com/section/{sid}' \n",
    "url = 'https://news.naver.com/section/{sid}'.format(**req_param)\n",
    "print(url)"
   ]
  },
  {
   "cell_type": "code",
   "execution_count": null,
   "id": "cc0aa511",
   "metadata": {},
   "outputs": [],
   "source": [
    "# IT/과학 뉴스 \n",
    "req_param = {\n",
    "    'sid': 105\n",
    "}\n",
    "url = 'https://news.naver.com/section/{sid}'.format(**req_param)\n",
    "print(url)\n",
    "\n",
    "# 요청 헤더 설정 : 브라우저 정보\n",
    "req_header = {\n",
    "    \"user-agent\": \"Mozilla/5.0 (Windows NT 10.0; Win64; x64) AppleWebKit/537.36 (KHTML, like Gecko) Chrome/104.0.0.0 Safari/537.36\"\n",
    "}\n",
    "\n",
    "# requests 의 get() 함수 호출하기 \n",
    "res=requests.get(url,headers=req_header)\n",
    "print(res.status_code, res.ok)\n",
    "print(type(res))\n",
    "print(res)\n",
    "\n",
    "# 응답(response)이 OK 이면\n",
    "# 응답 (response)에서 text 추출\n",
    "if res.ok:\n",
    "    html = res.text\n",
    "    # BeautifulSoup 객체 생성\n",
    "    soup = BeautifulSoup(html, \"html.parser\")   \n",
    "    #print(soup)\n",
    "    # CSS 선택자\n",
    "    # print(soup.select(\"div.sa_text a[href*='mnews/article']\"))\n",
    "    '''\n",
    "       <div class='sa_text'> \n",
    "          <a href=\"https://n.news.naver.com/mnews/article/366/0001094461\" class = \"sa_text_title\">\n",
    "    '''\n",
    "    a_tags = soup.select(\"div.sa_text a[href*='https://n.news.naver.com/mnews/article'].sa_text_title\")\n",
    "    print(len(a_tags))\n",
    "    print(type(a_tags)) #[Tag,Tag,Tag]\n",
    "    for idx,a_tag in enumerate(a_tags,1):\n",
    "        if a_tag.text:\n",
    "            title = a_tag.text.strip()\n",
    "            link = a_tag['href']\n",
    "            print(f'{idx} {title} {link}')\n",
    "            \n",
    "        else:\n",
    "            print(f'Error Code = {res.status_code}')\n",
    "# <a> 태그 리스트 순회하기    \n",
    "\n",
    "# 응답(response)이 Error 이면 status code 출력   "
   ]
  },
  {
   "cell_type": "markdown",
   "id": "45640860-a449-4285-90d7-5f300292b461",
   "metadata": {},
   "source": [
    "### 1.1 뉴스제목 추출하는 함수 선언하기"
   ]
  },
  {
   "cell_type": "code",
   "execution_count": 71,
   "id": "9f2e4ef8",
   "metadata": {},
   "outputs": [],
   "source": [
    "import requests\n",
    "from bs4 import BeautifulSoup\n",
    "\n",
    "section_dict = {'정치':100,'경제':101,'사회':102,'생활/문화':103,'세계':104,'IT/과학':105}\n",
    "\n",
    "def print_news(section):  #print_new(103,'생활/문화') \n",
    "    sid = section_dict[section]\n",
    "    url = f'https://news.naver.com/section/{sid}'\n",
    "    print(f'{url} {section} 뉴스')\n",
    "    \n",
    "    req_header = {\n",
    "        \"user-agent\": \"Mozilla/5.0 (Windows NT 10.0; Win64; x64) AppleWebKit/537.36 (KHTML, like Gecko) Chrome/104.0.0.0 Safari/537.36\"\n",
    "    }\n",
    "\n",
    "# requests 의 get() 함수 호출하기 \n",
    "    res=requests.get(url,headers=req_header)\n",
    "    print(res.status_code, res.ok)\n",
    "\n",
    "    if res.ok:\n",
    "        html = res.text\n",
    "        # BeautifulSoup 객체 생성\n",
    "        soup = BeautifulSoup(html, \"html.parser\")\n",
    "        a_tags = soup.select(\"div.sa_text a[href*='https://n.news.naver.com/mnews/article'].sa_text_title\")\n",
    "        print(len(a_tags))\n",
    "        for idx,a_tag in enumerate(a_tags,1):\n",
    "            if a_tag.text:\n",
    "                title = a_tag.text.strip()\n",
    "                link = a_tag['href']\n",
    "                print(f'{idx} {title} {link}')\n",
    "    else:\n",
    "        # 응답(response)이 Error 이면 status code 출력\n",
    "        print(f'Error Code = {res.status_code}')\n",
    "    "
   ]
  },
  {
   "cell_type": "code",
   "execution_count": 72,
   "id": "858952c6",
   "metadata": {},
   "outputs": [
    {
     "name": "stdout",
     "output_type": "stream",
     "text": [
      "https://news.naver.com/section/103 생활/문화 뉴스\n",
      "200 True\n",
      "43\n",
      "1 '극한폭우'에 경주 문화유산도 피해…신라 진덕여왕릉 갑석 떨어져 https://n.news.naver.com/mnews/article/421/0008385169\n",
      "2 가장 덥다는 ‘대서’…한낮 34도 폭염·열대야 [오늘날씨] https://n.news.naver.com/mnews/article/022/0004053624\n",
      "3 교회언론회 \"기독교와 해당 교회에 사과하라\"…해병특검 압수수색 반발 https://n.news.naver.com/mnews/article/421/0008383918\n",
      "4 BIFF ‘올해의 아시아영화인상’에 이란 자파르 파나히 감독 https://n.news.naver.com/mnews/article/015/0005161158\n",
      "5 관광공사, 지역 관광택시·시티투어 예약·결제 서비스 출시 https://n.news.naver.com/mnews/article/277/0005626131\n",
      "6 “잠들지 못하는 밤” 여름철 증가하는 '수면장애' https://n.news.naver.com/mnews/article/018/0006071002\n",
      "7 서울 31도, 광주·대구 34도 폭염…내륙 곳곳엔 소나기 https://n.news.naver.com/mnews/article/020/0003649551\n",
      "8 [단독] 통일교, 3남과의 ‘7000억원대’ 소송 패소…“내부분열 인정” https://n.news.naver.com/mnews/article/005/0001791283\n",
      "9 APEC 에너지장관회의 공식 의전…현대차 '넥쏘' 탄다 https://n.news.naver.com/mnews/article/277/0005626345\n",
      "10 극한 호우에 가야고분도 쓸렸다…피해 18건으로 늘어 https://n.news.naver.com/mnews/article/016/0002503340\n",
      "11 [AI에게 물었다] 직장인 생명수 ‘아메리카노’, 아침 공복에 가능? https://n.news.naver.com/mnews/article/119/0002982267\n",
      "12 전기차 판매 처음 꺾인 美...기아 판매량 72% 급감 https://n.news.naver.com/mnews/article/009/0005529108\n",
      "13 넥쏘 등 현대차그룹 친환경차 국제회의 총출동 https://n.news.naver.com/mnews/article/020/0003649597\n",
      "14 '거래정지 미리 알고 주식처분' 코스닥상장사 대표 1심 무죄 https://n.news.naver.com/mnews/article/374/0000453121\n",
      "15 박영규 “암 전 단계, 2년만 늦었어도”… ‘이 검사’ 덕분에 빨리 발견 https://n.news.naver.com/mnews/article/346/0000094887\n",
      "16 당근서 부동산 직거래했다가 계약금 3.5억 날렸다 https://n.news.naver.com/mnews/article/374/0000453118\n",
      "17 “다이어트 중인데” 조여정, 촬영 중 ‘이 음식’ 못 참았다… 뭘까? https://n.news.naver.com/mnews/article/346/0000094885\n",
      "18 “무리한 교회 압수수색 사과하라”…한교총, ‘채상병 특검’ 규탄 성명 https://n.news.naver.com/mnews/article/081/0003559849\n",
      "19 20년간 혼수상태 끝에 눈 감은 사우디아라비아 ‘잠자는 왕자’ https://n.news.naver.com/mnews/article/296/0000091481\n",
      "20 \"매일 ‘치팅데이’ 즐겨도 살 안 찐다?\"…기막힌 ‘비만 예방법’ 나왔다는데 https://n.news.naver.com/mnews/article/011/0004512128\n",
      "21 현대차그룹 대미 전기차 수출 88％ 급감…“하반기가 더 걱정” https://n.news.naver.com/mnews/article/032/0003384511\n",
      "22 열대야에 무너지는 수면 리듬…카페인·알코올 줄여야 https://n.news.naver.com/mnews/article/584/0000033504\n",
      "23 \"의전 차량 첫 사례\"…'수소차' 넥쏘, APEC 무대 누빈다 https://n.news.naver.com/mnews/article/015/0005161159\n",
      "24 현대차 넥쏘, '글로벌 에너지 회의'서 공식차로 달린다 https://n.news.naver.com/mnews/article/092/0002383043\n",
      "25 채 상병 특검, 여의도순복음 압수수색에 개신교계 잇단 반발 https://n.news.naver.com/mnews/article/469/0000877375\n",
      "26 현대차그룹, APEC 에너지장관회의에 친환경차 63대 지원 https://n.news.naver.com/mnews/article/629/0000409629\n",
      "27 [날씨] 충남 천안 '호우주의보'...내륙 최대 80mm↑ 소나기 https://n.news.naver.com/mnews/article/052/0002222844\n",
      "28 '中저장성으로? 서해 북상?' 7호 태풍 프란시스코 발달 전 단계 열대저압부 감시 임박 https://n.news.naver.com/mnews/article/088/0000960351\n",
      "29 의사들이 꼽은 ‘뇌 기능’ 떨어뜨리는 최악의 습관은? https://n.news.naver.com/mnews/article/346/0000094881\n",
      "30 “난 휴가 때 시댁 농사일 돕는데...” 인천공항 하루 평균 22만명 출국, 벌써부터 북적 https://n.news.naver.com/mnews/article/022/0004053777\n",
      "31 “잠 좀 푹 자고 싶다”…열대야에 숙면하는 사람들의 비밀 습관 https://n.news.naver.com/mnews/article/022/0004053776\n",
      "32 “침수된 음식 절대 먹지 마세요”‥‘장마 끝, 폭염 시작’ 식중독 확산 경고 https://n.news.naver.com/mnews/article/022/0004053774\n",
      "33 6411의 목소리… ‘사람 할 일 못 된다’는 그 일 10년 해보니 https://n.news.naver.com/mnews/article/036/0000052013\n",
      "34 지하철 타고 어르신 인기 만점 피서지를 가봤다 https://n.news.naver.com/mnews/article/047/0002481902\n",
      "35 밀면 먹던 부산 남자의 평양냉면 예찬 https://n.news.naver.com/mnews/article/047/0002481900\n",
      "36 전공의·의대생 복귀 특혜 논란…'입법 전선'으로 갈등 이동 https://n.news.naver.com/mnews/article/584/0000033501\n",
      "37 中 비야디, 내년 유럽서 3억대 슈퍼카 선보인다 https://n.news.naver.com/mnews/article/029/0002970034\n",
      "38 한국인 남편ㆍ일본인 아내 급증 “너무 자상해요”…우리 남편은? https://n.news.naver.com/mnews/article/296/0000091479\n",
      "39 '내 집' 후회하지 않으려면... 계약서에 이런 문구부터 피하세요 https://n.news.naver.com/mnews/article/047/0002481891\n",
      "40 달콤한 일상에 스며든 ‘당뇨병’…누구나 예외는 없다 https://n.news.naver.com/mnews/article/145/0000022164\n",
      "41 키 150cm 안 되면, 더위 더 탄다 https://n.news.naver.com/mnews/article/346/0000094878\n",
      "42 10월 유신에 격분한 김대중 \"단장의 심정으로 쓴 일기\" https://n.news.naver.com/mnews/article/001/0015522357\n",
      "43 희귀 뇌질환 빌리 조엘 “균형감각 엉망…배 위에 있는 듯” https://n.news.naver.com/mnews/article/020/0003649571\n"
     ]
    }
   ],
   "source": [
    "print_news('생활/문화')"
   ]
  },
  {
   "cell_type": "markdown",
   "id": "323196dc",
   "metadata": {},
   "source": [
    "### 2. Image 다운로드\n",
    "* referer 요청 헤더를 반드시 설정해야 한다."
   ]
  },
  {
   "cell_type": "code",
   "execution_count": null,
   "id": "c72d6cb1",
   "metadata": {},
   "outputs": [],
   "source": [
    "import requests\n",
    "import os\n",
    "\n",
    "req_header = {\n",
    "    'referer':''\n",
    "}\n",
    "\n",
    "img_urls = [\n",
    "    'https://image-comic.pstatic.net/webtoon/798173/5/20220804112251_d97bd1e1b38f0cd022e4e3639d2926b3_IMAG01_1.jpg',\n",
    "    'https://image-comic.pstatic.net/webtoon/798173/5/20220804112251_d97bd1e1b38f0cd022e4e3639d2926b3_IMAG01_2.jpg',\n",
    "    'https://image-comic.pstatic.net/webtoon/798173/5/20220804112251_d97bd1e1b38f0cd022e4e3639d2926b3_IMAG01_3.jpg'\n",
    "]\n",
    "\n",
    "for img_url in img_urls:\n",
    "    pass\n",
    "    # requests 의 get(url, headers) 함수 호출하기 \n",
    "        \n",
    "        # binary 응답 데이터 가져오기\n",
    "        \n",
    "        # url에서 파일명만 추출하기\n",
    "        \n",
    "        # binday data를 file에 write하기\n"
   ]
  },
  {
   "cell_type": "markdown",
   "id": "e8b00a04",
   "metadata": {},
   "source": [
    "* 현재 요청된 페이지의 image 모두 다운로드 해보기"
   ]
  },
  {
   "cell_type": "code",
   "execution_count": null,
   "id": "b30f7bf5",
   "metadata": {},
   "outputs": [],
   "source": []
  },
  {
   "cell_type": "markdown",
   "id": "2ac9f5f9",
   "metadata": {},
   "source": [
    "### 3. 파일 업로드 하기\n",
    "* http://httpbin.org/post 업로드 요청을 할 수 있는 url"
   ]
  },
  {
   "cell_type": "code",
   "execution_count": null,
   "id": "04da4790",
   "metadata": {},
   "outputs": [
    {
     "name": "stdout",
     "output_type": "stream",
     "text": [
      "200\n"
     ]
    }
   ],
   "source": [
    "import requests\n",
    "\n",
    "upload_files = {\n",
    "    \n",
    "}\n",
    "#print(upload_files)\n",
    "\n",
    "url = 'http://httpbin.org/post'\n",
    "# file 업로드 하려면 requests의 post 함수에 files 속성을 사용합니다.\n",
    "\n"
   ]
  },
  {
   "cell_type": "markdown",
   "id": "7ad65f12",
   "metadata": {},
   "source": [
    "### 4. 캡챠(이미지) API 호출하기\n",
    "* urllib 사용\n",
    "* 1. 캡차 키 발급 요청\n",
    "  2. 캡차 이미지 요청\n",
    "  3. 사용자 입력값 검증 요청"
   ]
  },
  {
   "cell_type": "code",
   "execution_count": null,
   "id": "bc4ae360-e772-4873-8642-d3494edd34e1",
   "metadata": {},
   "outputs": [],
   "source": [
    "# 캡차 키 발급 요청\n"
   ]
  },
  {
   "cell_type": "code",
   "execution_count": null,
   "id": "7b95b6a0-c218-4792-82a6-da4d80872071",
   "metadata": {},
   "outputs": [],
   "source": [
    "# 캡차 이미지 요청\n"
   ]
  },
  {
   "cell_type": "code",
   "execution_count": null,
   "id": "a79076af-2cd0-4de2-8301-316b9130c55e",
   "metadata": {},
   "outputs": [],
   "source": [
    "#  사용자 입력값 검증 요청\n",
    "\n"
   ]
  },
  {
   "cell_type": "markdown",
   "id": "b7d984a6",
   "metadata": {},
   "source": [
    "* requests를 사용하는 코드로 변경하기\n",
    "* [requests docs](https://requests.readthedocs.io/en/latest/user/quickstart/)"
   ]
  },
  {
   "cell_type": "code",
   "execution_count": null,
   "id": "727b427b",
   "metadata": {
    "scrolled": true
   },
   "outputs": [
    {
     "name": "stdout",
     "output_type": "stream",
     "text": [
      "Error Code: 403\n"
     ]
    }
   ],
   "source": [
    "# 사용자 입력값 검증 요청\n",
    "\n"
   ]
  },
  {
   "cell_type": "markdown",
   "id": "d5e1179a",
   "metadata": {},
   "source": [
    "### 5. 블로그 검색하기"
   ]
  },
  {
   "cell_type": "code",
   "execution_count": null,
   "id": "877d0c7f",
   "metadata": {},
   "outputs": [],
   "source": [
    "import requests\n",
    "import pprint\n",
    "\n",
    "headers = {\n",
    "    'X-Naver-Client-Id': '',\n",
    "    'X-Naver-Client-Secret': '',\n",
    "}\n",
    "\n",
    "payload = {\n",
    "    'query': '파이썬',\n",
    "    'display': 100,\n",
    "    'sort': 'sim'\n",
    "}\n",
    "\n",
    "url = 'https://openapi.naver.com/v1/search/blog.json'\n",
    "\n",
    "\n",
    "# requests get(url, params, headers) 요청 \n",
    "\n",
    "# json() 함수로 응답 결과 가져오오기\n",
    "# 'title' , 'bloggername' , 'description' , 'bloggerlink' , 'link'\n",
    "\n",
    "# 'data/nhnblog.txt' 파일 생성하기\n"
   ]
  }
 ],
 "metadata": {
  "kernelspec": {
   "display_name": "base",
   "language": "python",
   "name": "python3"
  },
  "language_info": {
   "codemirror_mode": {
    "name": "ipython",
    "version": 3
   },
   "file_extension": ".py",
   "mimetype": "text/x-python",
   "name": "python",
   "nbconvert_exporter": "python",
   "pygments_lexer": "ipython3",
   "version": "3.12.7"
  }
 },
 "nbformat": 4,
 "nbformat_minor": 5
}
