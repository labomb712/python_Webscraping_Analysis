{
 "cells": [
  {
   "cell_type": "code",
   "execution_count": 5,
   "id": "8441b592",
   "metadata": {},
   "outputs": [
    {
     "name": "stdout",
     "output_type": "stream",
     "text": [
      "++++++++++++ [ 경제 뉴스 ] https://news.nate.com/recent?mid=n0102 ++++++++++++\n",
      "기사제목: 월가 '7조달러대' MMF 시장에 블록체인 기술 도입\n",
      "기사링크: //news.nate.com/view/20250723n40386?mid=n0102\n",
      "Image  : https://thumbnews.nateimg.co.kr/news90///news.nateimg.co.kr/orgImg/yt/2025/07/23/AKR20250723169700072_01_i.jpg\n"
     ]
    },
    {
     "data": {
      "text/html": [
       "<img src=\"https://thumbnews.nateimg.co.kr/news90///news.nateimg.co.kr/orgImg/yt/2025/07/23/AKR20250723169700072_01_i.jpg\"/>"
      ],
      "text/plain": [
       "<IPython.core.display.Image object>"
      ]
     },
     "metadata": {},
     "output_type": "display_data"
    },
    {
     "name": "stdout",
     "output_type": "stream",
     "text": [
      "\n",
      "기사제목: 국내 5대 금융지주, 내년 추가자본 '의무 적립' 한다\n",
      "기사링크: //news.nate.com/view/20250723n40384?mid=n0102\n",
      "\n",
      "기사제목: 日, 최대수출품 車산업 지켰다…쌀 개방은 美·日 해석 달라\n",
      "기사링크: //news.nate.com/view/20250723n33289?mid=n0102\n",
      "Image  : https://thumbnews.nateimg.co.kr/news90///news.nateimg.co.kr/orgImg/mk/2025/07/23/20250724_01170103000001_L00.jpg\n"
     ]
    },
    {
     "data": {
      "text/html": [
       "<img src=\"https://thumbnews.nateimg.co.kr/news90///news.nateimg.co.kr/orgImg/mk/2025/07/23/20250724_01170103000001_L00.jpg\"/>"
      ],
      "text/plain": [
       "<IPython.core.display.Image object>"
      ]
     },
     "metadata": {},
     "output_type": "display_data"
    },
    {
     "name": "stdout",
     "output_type": "stream",
     "text": [
      "\n",
      "기사제목: 한화, 美 군함 이어 항공 엔진까지…MRO 성과 가시화\n",
      "기사링크: //news.nate.com/view/20250723n31744?mid=n0102\n",
      "Image  : https://thumbnews.nateimg.co.kr/news90///news.nateimg.co.kr/orgImg/cz/2025/07/23/cz_1753281184835_134554_0.jpg\n"
     ]
    },
    {
     "data": {
      "text/html": [
       "<img src=\"https://thumbnews.nateimg.co.kr/news90///news.nateimg.co.kr/orgImg/cz/2025/07/23/cz_1753281184835_134554_0.jpg\"/>"
      ],
      "text/plain": [
       "<IPython.core.display.Image object>"
      ]
     },
     "metadata": {},
     "output_type": "display_data"
    },
    {
     "name": "stdout",
     "output_type": "stream",
     "text": [
      "\n",
      "기사제목: 미국선 이미 '위고비' 제쳤다…8월 국내 출시되는 비만 치료제\n",
      "기사링크: //news.nate.com/view/20250723n35084?mid=n0102\n",
      "Image  : https://thumbnews.nateimg.co.kr/news90///news.nateimg.co.kr/orgImg/ch/2025/07/23/ch_1753281184835_818112_0.jpg\n"
     ]
    },
    {
     "data": {
      "text/html": [
       "<img src=\"https://thumbnews.nateimg.co.kr/news90///news.nateimg.co.kr/orgImg/ch/2025/07/23/ch_1753281184835_818112_0.jpg\"/>"
      ],
      "text/plain": [
       "<IPython.core.display.Image object>"
      ]
     },
     "metadata": {},
     "output_type": "display_data"
    },
    {
     "name": "stdout",
     "output_type": "stream",
     "text": [
      "\n",
      "기사제목: \"신축 아파트 80%가 월세\"…'전세의 월세화' 가속\n",
      "기사링크: //news.nate.com/view/20250723n40295?mid=n0102\n",
      "Image  : https://thumbnews.nateimg.co.kr/news90///news.nateimg.co.kr/orgImg/ny/2025/07/23/400431_1753280658.jpg\n"
     ]
    },
    {
     "data": {
      "text/html": [
       "<img src=\"https://thumbnews.nateimg.co.kr/news90///news.nateimg.co.kr/orgImg/ny/2025/07/23/400431_1753280658.jpg\"/>"
      ],
      "text/plain": [
       "<IPython.core.display.Image object>"
      ]
     },
     "metadata": {},
     "output_type": "display_data"
    },
    {
     "name": "stdout",
     "output_type": "stream",
     "text": [
      "\n",
      "기사제목: 뉴욕증시, 개장 후 일제히 상승 출발\n",
      "기사링크: //news.nate.com/view/20250723n40293?mid=n0102\n",
      "Image  : https://thumbnews.nateimg.co.kr/news90///news.nateimg.co.kr/orgImg/cz/2025/07/23/cz_1753280706668_917775_0.jpg\n"
     ]
    },
    {
     "data": {
      "text/html": [
       "<img src=\"https://thumbnews.nateimg.co.kr/news90///news.nateimg.co.kr/orgImg/cz/2025/07/23/cz_1753280706668_917775_0.jpg\"/>"
      ],
      "text/plain": [
       "<IPython.core.display.Image object>"
      ]
     },
     "metadata": {},
     "output_type": "display_data"
    },
    {
     "name": "stdout",
     "output_type": "stream",
     "text": [
      "\n",
      "기사제목: 호우피해로 농축산물 가격 더 뛸까…\"수급 안정 총력\"\n",
      "기사링크: //news.nate.com/view/20250723n40287?mid=n0102\n",
      "Image  : https://thumbnews.nateimg.co.kr/news90///news.nateimg.co.kr/orgImg/ny/2025/07/23/400415_1753280600.jpg\n"
     ]
    },
    {
     "data": {
      "text/html": [
       "<img src=\"https://thumbnews.nateimg.co.kr/news90///news.nateimg.co.kr/orgImg/ny/2025/07/23/400415_1753280600.jpg\"/>"
      ],
      "text/plain": [
       "<IPython.core.display.Image object>"
      ]
     },
     "metadata": {},
     "output_type": "display_data"
    },
    {
     "name": "stdout",
     "output_type": "stream",
     "text": [
      "\n",
      "기사제목: 미-일 관세협상 타결…美 S&P500 다시 사상최고치 시도\n",
      "기사링크: //news.nate.com/view/20250723n40279?mid=n0102\n",
      "Image  : https://thumbnews.nateimg.co.kr/news90///news.nateimg.co.kr/orgImg/hk/2025/07/23/ZA.41159874.1.jpg\n"
     ]
    },
    {
     "data": {
      "text/html": [
       "<img src=\"https://thumbnews.nateimg.co.kr/news90///news.nateimg.co.kr/orgImg/hk/2025/07/23/ZA.41159874.1.jpg\"/>"
      ],
      "text/plain": [
       "<IPython.core.display.Image object>"
      ]
     },
     "metadata": {},
     "output_type": "display_data"
    },
    {
     "name": "stdout",
     "output_type": "stream",
     "text": [
      "\n",
      "기사제목: \"일본, 무역합의로 보잉 항공기 100대 구매키로\"\n",
      "기사링크: //news.nate.com/view/20250723n40265?mid=n0102\n",
      "Image  : https://thumbnews.nateimg.co.kr/news90///news.nateimg.co.kr/orgImg/mt/2025/07/23/mt_1753280524870_403371_0.jpg\n"
     ]
    },
    {
     "data": {
      "text/html": [
       "<img src=\"https://thumbnews.nateimg.co.kr/news90///news.nateimg.co.kr/orgImg/mt/2025/07/23/mt_1753280524870_403371_0.jpg\"/>"
      ],
      "text/plain": [
       "<IPython.core.display.Image object>"
      ]
     },
     "metadata": {},
     "output_type": "display_data"
    },
    {
     "name": "stdout",
     "output_type": "stream",
     "text": [
      "\n",
      "기사제목: 美관세 충격에 흔들리는 韓경제…'0%대 성장' 가시화\n",
      "기사링크: //news.nate.com/view/20250723n36412?mid=n0102\n",
      "Image  : https://thumbnews.nateimg.co.kr/news90///news.nateimg.co.kr/orgImg/ed/2025/07/23/PS25072301432.jpg\n"
     ]
    },
    {
     "data": {
      "text/html": [
       "<img src=\"https://thumbnews.nateimg.co.kr/news90///news.nateimg.co.kr/orgImg/ed/2025/07/23/PS25072301432.jpg\"/>"
      ],
      "text/plain": [
       "<IPython.core.display.Image object>"
      ]
     },
     "metadata": {},
     "output_type": "display_data"
    },
    {
     "name": "stdout",
     "output_type": "stream",
     "text": [
      "\n",
      "기사제목: 한국형 위성항법시스템(KPS) 첫 삽…금산 안테나국 착공\n",
      "기사링크: //news.nate.com/view/20250723n40261?mid=n0102\n",
      "Image  : https://thumbnews.nateimg.co.kr/news90///news.nateimg.co.kr/orgImg/ny/2025/07/23/AKR20250723231939428_01_i.JPG\n"
     ]
    },
    {
     "data": {
      "text/html": [
       "<img src=\"https://thumbnews.nateimg.co.kr/news90///news.nateimg.co.kr/orgImg/ny/2025/07/23/AKR20250723231939428_01_i.JPG\"/>"
      ],
      "text/plain": [
       "<IPython.core.display.Image object>"
      ]
     },
     "metadata": {},
     "output_type": "display_data"
    },
    {
     "name": "stdout",
     "output_type": "stream",
     "text": [
      "\n",
      "기사제목: 네일왕서 아파트왕으로…박화영 인코코 회장 \"맨해튼서 예술같은 부동산개발\"\n",
      "기사링크: //news.nate.com/view/20250723n21023?mid=n0102\n",
      "Image  : https://thumbnews.nateimg.co.kr/news90///news.nateimg.co.kr/orgImg/mk/2025/07/23/news-p.v1.20250723.42b6cc4e62664bd09947964d0d4492a7_P1.jpg\n"
     ]
    },
    {
     "data": {
      "text/html": [
       "<img src=\"https://thumbnews.nateimg.co.kr/news90///news.nateimg.co.kr/orgImg/mk/2025/07/23/news-p.v1.20250723.42b6cc4e62664bd09947964d0d4492a7_P1.jpg\"/>"
      ],
      "text/plain": [
       "<IPython.core.display.Image object>"
      ]
     },
     "metadata": {},
     "output_type": "display_data"
    },
    {
     "name": "stdout",
     "output_type": "stream",
     "text": [
      "\n",
      "기사제목: 금융위, 국내 5대 금융지주 '자체정상화계획' 승인\n",
      "기사링크: //news.nate.com/view/20250723n40160?mid=n0102\n",
      "Image  : https://thumbnews.nateimg.co.kr/news90///news.nateimg.co.kr/orgImg/di/2025/07/23/c4300de24e4d9c8dbd90e80115c7703b_thumb.png\n"
     ]
    },
    {
     "data": {
      "text/html": [
       "<img src=\"https://thumbnews.nateimg.co.kr/news90///news.nateimg.co.kr/orgImg/di/2025/07/23/c4300de24e4d9c8dbd90e80115c7703b_thumb.png\"/>"
      ],
      "text/plain": [
       "<IPython.core.display.Image object>"
      ]
     },
     "metadata": {},
     "output_type": "display_data"
    },
    {
     "name": "stdout",
     "output_type": "stream",
     "text": [
      "\n",
      "기사제목: 은행 비대면 주담대 재개…'영끌' 불씨 살아날라 촉각\n",
      "기사링크: //news.nate.com/view/20250723n30320?mid=n0102\n",
      "Image  : https://thumbnews.nateimg.co.kr/news90///news.nateimg.co.kr/orgImg/cz/2025/07/23/cz_1753279264827_878300_0.jpg\n"
     ]
    },
    {
     "data": {
      "text/html": [
       "<img src=\"https://thumbnews.nateimg.co.kr/news90///news.nateimg.co.kr/orgImg/cz/2025/07/23/cz_1753279264827_878300_0.jpg\"/>"
      ],
      "text/plain": [
       "<IPython.core.display.Image object>"
      ]
     },
     "metadata": {},
     "output_type": "display_data"
    },
    {
     "name": "stdout",
     "output_type": "stream",
     "text": [
      "\n",
      "기사제목: 백악관 \"美·日 무역 합의, 일본의 보잉 항공기 100대 구매 포함\"\n",
      "기사링크: //news.nate.com/view/20250723n40089?mid=n0102\n",
      "Image  : https://thumbnews.nateimg.co.kr/news90///news.nateimg.co.kr/orgImg/cz/2025/07/23/cz_1753279205784_770581_0.jpg\n"
     ]
    },
    {
     "data": {
      "text/html": [
       "<img src=\"https://thumbnews.nateimg.co.kr/news90///news.nateimg.co.kr/orgImg/cz/2025/07/23/cz_1753279205784_770581_0.jpg\"/>"
      ],
      "text/plain": [
       "<IPython.core.display.Image object>"
      ]
     },
     "metadata": {},
     "output_type": "display_data"
    },
    {
     "name": "stdout",
     "output_type": "stream",
     "text": [
      "\n",
      "기사제목: 소비쿠폰으로 불티나게 샀다…편의점서 매출 230% 뛴 이것\n",
      "기사링크: //news.nate.com/view/20250723n33368?mid=n0102\n",
      "Image  : https://thumbnews.nateimg.co.kr/news90///news.nateimg.co.kr/orgImg/jo/2025/07/23/608c51b4-a957-4012-8dbb-63262c7bab77.jpg\n"
     ]
    },
    {
     "data": {
      "text/html": [
       "<img src=\"https://thumbnews.nateimg.co.kr/news90///news.nateimg.co.kr/orgImg/jo/2025/07/23/608c51b4-a957-4012-8dbb-63262c7bab77.jpg\"/>"
      ],
      "text/plain": [
       "<IPython.core.display.Image object>"
      ]
     },
     "metadata": {},
     "output_type": "display_data"
    },
    {
     "name": "stdout",
     "output_type": "stream",
     "text": [
      "\n",
      "기사제목: \"AI 투자 늘어 엔비디아·AMD 주가 더 뛴다\"\n",
      "기사링크: //news.nate.com/view/20250723n33371?mid=n0102\n",
      "Image  : https://thumbnews.nateimg.co.kr/news90///news.nateimg.co.kr/orgImg/mk/2025/07/23/20250724_01170120000001_L00.jpg\n"
     ]
    },
    {
     "data": {
      "text/html": [
       "<img src=\"https://thumbnews.nateimg.co.kr/news90///news.nateimg.co.kr/orgImg/mk/2025/07/23/20250724_01170120000001_L00.jpg\"/>"
      ],
      "text/plain": [
       "<IPython.core.display.Image object>"
      ]
     },
     "metadata": {},
     "output_type": "display_data"
    },
    {
     "name": "stdout",
     "output_type": "stream",
     "text": [
      "\n",
      "기사제목: 소비쿠폰 풀리자…편의점 한우·라면 불티\n",
      "기사링크: //news.nate.com/view/20250723n33228?mid=n0102\n",
      "Image  : https://thumbnews.nateimg.co.kr/news90///news.nateimg.co.kr/orgImg/mk/2025/07/23/20250724_01170105000001_L00.jpg\n"
     ]
    },
    {
     "data": {
      "text/html": [
       "<img src=\"https://thumbnews.nateimg.co.kr/news90///news.nateimg.co.kr/orgImg/mk/2025/07/23/20250724_01170105000001_L00.jpg\"/>"
      ],
      "text/plain": [
       "<IPython.core.display.Image object>"
      ]
     },
     "metadata": {},
     "output_type": "display_data"
    },
    {
     "name": "stdout",
     "output_type": "stream",
     "text": [
      "\n",
      "기사제목: HMM, 소형 선박 10척 도입…\"신시장 공략\"\n",
      "기사링크: //news.nate.com/view/20250723n33578?mid=n0102\n",
      "Image  : https://thumbnews.nateimg.co.kr/news90///news.nateimg.co.kr/orgImg/mk/2025/07/23/20250724_01170114000001_L00.jpg\n"
     ]
    },
    {
     "data": {
      "text/html": [
       "<img src=\"https://thumbnews.nateimg.co.kr/news90///news.nateimg.co.kr/orgImg/mk/2025/07/23/20250724_01170114000001_L00.jpg\"/>"
      ],
      "text/plain": [
       "<IPython.core.display.Image object>"
      ]
     },
     "metadata": {},
     "output_type": "display_data"
    },
    {
     "name": "stdout",
     "output_type": "stream",
     "text": [
      "\n"
     ]
    }
   ],
   "source": [
    "import requests\n",
    "from bs4 import BeautifulSoup\n",
    "\n",
    "section_url_map = {\n",
    "    '정치': 'politics', '경제': 'economy', '사회': 'society', '문화': 'culture', '생활': 'life', 'IT/과학': 'tech'\n",
    "}\n",
    "\n",
    "def print_daum_news(section_name):\n",
    "    section_string = section_url_map.get(section_name)\n",
    "\n",
    "    if not section_string:\n",
    "        print(f\"'{section_name}'에 해당하는 다음 뉴스 섹션 URL을 찾을 수 없습니다.\")\n",
    "        print(f\"유효한 섹션: {list(section_url_map.keys())}\")\n",
    "        return\n",
    "\n",
    "    # 다음 뉴스 URL 구성: https://news.daum.net/{section_string}\n",
    "    url = f'https://news.nate.com/recent?mid={section_url_map[section_name]}'\n",
    "    print(f'\\n--- {url} {section_name} 뉴스 ---')\n",
    "\n",
    "    req_header = {\n",
    "        'referer' : url,\n",
    "        \"user-agent\": \"Mozilla/5.0 (Windows NT 10.0; Win64; x64) AppleWebKit/537.36 (KHTML, like Gecko) Chrome/104.0.0.0 Safari/537.36\"\n",
    "    }\n",
    "    res = requests.get(url)\n",
    "    res.encoding = 'EUC-KR'\n",
    "    if res.ok:\n",
    "        soup = BeautifulSoup(res.text, 'html.parser')\n",
    "        news_items = soup.select('div.postSubjectContent div.mlt01')\n",
    "\n",
    "    for news_item in news_items:\n",
    "            # 기사 제목\n",
    "            h2_tag = news_item.select_one('h2.tit')\n",
    "            title = h2_tag.text.strip()\n",
    "            # 기사 링크\n",
    "            a_tag = news_item.find('a')\n",
    "            url = a_tag['href']\n",
    "            image_tag = a_tag.select_one('img[src]')\n",
    "            \n",
    "            print(f'기사제목: {title}')\n",
    "            print(f'기사링크: {url}')\n",
    "            if image_tag and 'src' in image_tag.attrs: # 이미지 존재 여부 및 src 속성 확인\n",
    "                # 기사 이미지\n",
    "                full_image_url = urljoin(url, image_tag['src'])\n",
    "                print(f\"Image  : {full_image_url}\")\n",
    "                display(Image(url=full_image_url))\n",
    "            \n",
    "            print()\n",
    "\n",
    "scraping_nate_news('경제')"
   ]
  },
  {
   "cell_type": "code",
   "execution_count": 6,
   "id": "d6e64ee1",
   "metadata": {},
   "outputs": [
    {
     "name": "stdout",
     "output_type": "stream",
     "text": [
      "Writing to img\\괴력난신\\73\\20250508174431_71bde49b76c764fdb9ad76d46b8d366e_IMAG01_1.jpg (91,824 bytes)\n",
      "Writing to img\\괴력난신\\73\\20250508174431_71bde49b76c764fdb9ad76d46b8d366e_IMAG01_2.jpg (93,479 bytes)\n",
      "Writing to img\\괴력난신\\73\\20250508174431_71bde49b76c764fdb9ad76d46b8d366e_IMAG01_3.jpg (217,112 bytes)\n",
      "Writing to img\\괴력난신\\73\\20250508174431_71bde49b76c764fdb9ad76d46b8d366e_IMAG01_4.jpg (232,428 bytes)\n",
      "Writing to img\\괴력난신\\73\\20250508174431_71bde49b76c764fdb9ad76d46b8d366e_IMAG01_5.jpg (115,968 bytes)\n",
      "Writing to img\\괴력난신\\73\\20250508174431_71bde49b76c764fdb9ad76d46b8d366e_IMAG01_6.jpg (130,044 bytes)\n",
      "Writing to img\\괴력난신\\73\\20250508174431_71bde49b76c764fdb9ad76d46b8d366e_IMAG01_7.jpg (254,097 bytes)\n",
      "Writing to img\\괴력난신\\73\\20250508174431_71bde49b76c764fdb9ad76d46b8d366e_IMAG01_8.jpg (204,461 bytes)\n",
      "Writing to img\\괴력난신\\73\\20250508174431_71bde49b76c764fdb9ad76d46b8d366e_IMAG01_9.jpg (198,386 bytes)\n",
      "Writing to img\\괴력난신\\73\\20250508174431_71bde49b76c764fdb9ad76d46b8d366e_IMAG01_10.jpg (195,765 bytes)\n",
      "Writing to img\\괴력난신\\73\\20250508174431_71bde49b76c764fdb9ad76d46b8d366e_IMAG01_11.jpg (117,411 bytes)\n",
      "Writing to img\\괴력난신\\73\\20250508174431_71bde49b76c764fdb9ad76d46b8d366e_IMAG01_12.jpg (81,046 bytes)\n",
      "Writing to img\\괴력난신\\73\\20250508174431_71bde49b76c764fdb9ad76d46b8d366e_IMAG01_13.jpg (192,451 bytes)\n",
      "Writing to img\\괴력난신\\73\\20250508174431_71bde49b76c764fdb9ad76d46b8d366e_IMAG01_14.jpg (145,344 bytes)\n",
      "Writing to img\\괴력난신\\73\\20250508174431_71bde49b76c764fdb9ad76d46b8d366e_IMAG01_15.jpg (84,449 bytes)\n",
      "Writing to img\\괴력난신\\73\\20250508174431_71bde49b76c764fdb9ad76d46b8d366e_IMAG01_16.jpg (121,617 bytes)\n",
      "Writing to img\\괴력난신\\73\\20250508174431_71bde49b76c764fdb9ad76d46b8d366e_IMAG01_17.jpg (132,053 bytes)\n",
      "Writing to img\\괴력난신\\73\\20250508174431_71bde49b76c764fdb9ad76d46b8d366e_IMAG01_18.jpg (162,909 bytes)\n",
      "Writing to img\\괴력난신\\73\\20250508174431_71bde49b76c764fdb9ad76d46b8d366e_IMAG01_19.jpg (354,678 bytes)\n",
      "Writing to img\\괴력난신\\73\\20250508174431_71bde49b76c764fdb9ad76d46b8d366e_IMAG01_20.jpg (154,703 bytes)\n",
      "Writing to img\\괴력난신\\73\\20250508174431_71bde49b76c764fdb9ad76d46b8d366e_IMAG01_21.jpg (297,163 bytes)\n",
      "Writing to img\\괴력난신\\73\\20250508174431_71bde49b76c764fdb9ad76d46b8d366e_IMAG01_22.jpg (337,288 bytes)\n",
      "Writing to img\\괴력난신\\73\\20250508174431_71bde49b76c764fdb9ad76d46b8d366e_IMAG01_23.jpg (217,075 bytes)\n",
      "Writing to img\\괴력난신\\73\\20250508174431_71bde49b76c764fdb9ad76d46b8d366e_IMAG01_24.jpg (187,797 bytes)\n",
      "Writing to img\\괴력난신\\73\\20250508174431_71bde49b76c764fdb9ad76d46b8d366e_IMAG01_25.jpg (201,027 bytes)\n",
      "Writing to img\\괴력난신\\73\\20250508174431_71bde49b76c764fdb9ad76d46b8d366e_IMAG01_26.jpg (82,784 bytes)\n",
      "Writing to img\\괴력난신\\73\\20250508174431_71bde49b76c764fdb9ad76d46b8d366e_IMAG01_27.jpg (171,814 bytes)\n",
      "Writing to img\\괴력난신\\73\\20250508174431_71bde49b76c764fdb9ad76d46b8d366e_IMAG01_28.jpg (206,876 bytes)\n",
      "Writing to img\\괴력난신\\73\\20250508174431_71bde49b76c764fdb9ad76d46b8d366e_IMAG01_29.jpg (283,774 bytes)\n",
      "Writing to img\\괴력난신\\73\\20250508174431_71bde49b76c764fdb9ad76d46b8d366e_IMAG01_30.jpg (275,136 bytes)\n",
      "Writing to img\\괴력난신\\73\\20250508174431_71bde49b76c764fdb9ad76d46b8d366e_IMAG01_31.jpg (130,613 bytes)\n",
      "Writing to img\\괴력난신\\73\\20250508174431_71bde49b76c764fdb9ad76d46b8d366e_IMAG01_32.jpg (275,187 bytes)\n",
      "Writing to img\\괴력난신\\73\\20250508174431_71bde49b76c764fdb9ad76d46b8d366e_IMAG01_33.jpg (141,742 bytes)\n",
      "Writing to img\\괴력난신\\73\\20250508174431_71bde49b76c764fdb9ad76d46b8d366e_IMAG01_34.jpg (123,147 bytes)\n",
      "Writing to img\\괴력난신\\73\\20250508174431_71bde49b76c764fdb9ad76d46b8d366e_IMAG01_35.jpg (142,985 bytes)\n",
      "Writing to img\\괴력난신\\73\\20250508174431_71bde49b76c764fdb9ad76d46b8d366e_IMAG01_36.jpg (320,742 bytes)\n",
      "Writing to img\\괴력난신\\73\\20250508174431_71bde49b76c764fdb9ad76d46b8d366e_IMAG01_37.jpg (229,000 bytes)\n",
      "Writing to img\\괴력난신\\73\\20250508174431_71bde49b76c764fdb9ad76d46b8d366e_IMAG01_38.jpg (249,166 bytes)\n",
      "Writing to img\\괴력난신\\73\\20250508174431_71bde49b76c764fdb9ad76d46b8d366e_IMAG01_39.jpg (155,233 bytes)\n",
      "Writing to img\\괴력난신\\73\\20250508174431_71bde49b76c764fdb9ad76d46b8d366e_IMAG01_40.jpg (286,902 bytes)\n",
      "Writing to img\\괴력난신\\73\\20250508174431_71bde49b76c764fdb9ad76d46b8d366e_IMAG01_41.jpg (217,389 bytes)\n",
      "Writing to img\\괴력난신\\73\\20250508174431_71bde49b76c764fdb9ad76d46b8d366e_IMAG01_42.jpg (218,711 bytes)\n",
      "Writing to img\\괴력난신\\73\\20250508174431_71bde49b76c764fdb9ad76d46b8d366e_IMAG01_43.jpg (298,626 bytes)\n",
      "Writing to img\\괴력난신\\73\\20250508174431_71bde49b76c764fdb9ad76d46b8d366e_IMAG01_44.jpg (233,853 bytes)\n",
      "Writing to img\\괴력난신\\73\\20250508174431_71bde49b76c764fdb9ad76d46b8d366e_IMAG01_45.jpg (145,424 bytes)\n",
      "Writing to img\\괴력난신\\73\\20250508174431_71bde49b76c764fdb9ad76d46b8d366e_IMAG01_46.jpg (169,392 bytes)\n",
      "Writing to img\\괴력난신\\73\\20250508174431_71bde49b76c764fdb9ad76d46b8d366e_IMAG01_47.jpg (279,035 bytes)\n",
      "Writing to img\\괴력난신\\73\\20250508174431_71bde49b76c764fdb9ad76d46b8d366e_IMAG01_48.jpg (171,684 bytes)\n",
      "Writing to img\\괴력난신\\73\\20250508174431_71bde49b76c764fdb9ad76d46b8d366e_IMAG01_49.jpg (223,733 bytes)\n",
      "Writing to img\\괴력난신\\73\\20250508174431_71bde49b76c764fdb9ad76d46b8d366e_IMAG01_50.jpg (284,807 bytes)\n",
      "Writing to img\\괴력난신\\73\\20250508174431_71bde49b76c764fdb9ad76d46b8d366e_IMAG01_51.jpg (238,799 bytes)\n",
      "Writing to img\\괴력난신\\73\\20250508174431_71bde49b76c764fdb9ad76d46b8d366e_IMAG01_52.jpg (218,455 bytes)\n",
      "Writing to img\\괴력난신\\73\\20250508174431_71bde49b76c764fdb9ad76d46b8d366e_IMAG01_53.jpg (87,033 bytes)\n",
      "Writing to img\\괴력난신\\73\\20250508174431_71bde49b76c764fdb9ad76d46b8d366e_IMAG01_54.jpg (213,524 bytes)\n",
      "Writing to img\\괴력난신\\73\\20250508174431_71bde49b76c764fdb9ad76d46b8d366e_IMAG01_55.jpg (108,693 bytes)\n",
      "Writing to img\\괴력난신\\73\\20250508174431_71bde49b76c764fdb9ad76d46b8d366e_IMAG01_56.jpg (261,627 bytes)\n",
      "Writing to img\\괴력난신\\73\\20250508174431_71bde49b76c764fdb9ad76d46b8d366e_IMAG01_57.jpg (282,461 bytes)\n",
      "Writing to img\\괴력난신\\73\\20250508174431_71bde49b76c764fdb9ad76d46b8d366e_IMAG01_58.jpg (181,392 bytes)\n",
      "Writing to img\\괴력난신\\73\\20250508174431_71bde49b76c764fdb9ad76d46b8d366e_IMAG01_59.jpg (155,290 bytes)\n",
      "Writing to img\\괴력난신\\73\\20250508174431_71bde49b76c764fdb9ad76d46b8d366e_IMAG01_60.jpg (199,360 bytes)\n",
      "Writing to img\\괴력난신\\73\\20250508174431_71bde49b76c764fdb9ad76d46b8d366e_IMAG01_61.jpg (98,356 bytes)\n",
      "Writing to img\\괴력난신\\73\\20250508174431_71bde49b76c764fdb9ad76d46b8d366e_IMAG01_62.jpg (69,639 bytes)\n",
      "Writing to img\\괴력난신\\73\\20250508174431_71bde49b76c764fdb9ad76d46b8d366e_IMAG01_63.jpg (114,025 bytes)\n",
      "Writing to img\\괴력난신\\73\\20250508174431_71bde49b76c764fdb9ad76d46b8d366e_IMAG01_64.jpg (209,832 bytes)\n",
      "Writing to img\\괴력난신\\73\\20250508174431_71bde49b76c764fdb9ad76d46b8d366e_IMAG01_65.jpg (109,597 bytes)\n",
      "Writing to img\\괴력난신\\73\\20250508174431_71bde49b76c764fdb9ad76d46b8d366e_IMAG01_66.jpg (185,495 bytes)\n",
      "Writing to img\\괴력난신\\73\\20250508174431_71bde49b76c764fdb9ad76d46b8d366e_IMAG01_67.jpg (232,382 bytes)\n",
      "Writing to img\\괴력난신\\73\\20250508174431_71bde49b76c764fdb9ad76d46b8d366e_IMAG01_68.jpg (238,774 bytes)\n",
      "Writing to img\\괴력난신\\73\\20250508174431_71bde49b76c764fdb9ad76d46b8d366e_IMAG01_69.jpg (303,655 bytes)\n",
      "Writing to img\\괴력난신\\73\\20250508174431_71bde49b76c764fdb9ad76d46b8d366e_IMAG01_70.jpg (293,832 bytes)\n",
      "Writing to img\\괴력난신\\73\\20250508174431_71bde49b76c764fdb9ad76d46b8d366e_IMAG01_71.jpg (117,282 bytes)\n",
      "Writing to img\\괴력난신\\73\\20250508174431_71bde49b76c764fdb9ad76d46b8d366e_IMAG01_72.jpg (161,316 bytes)\n",
      "Writing to img\\괴력난신\\73\\20250508174431_71bde49b76c764fdb9ad76d46b8d366e_IMAG01_73.jpg (85,125 bytes)\n",
      "Writing to img\\괴력난신\\73\\20250508174431_71bde49b76c764fdb9ad76d46b8d366e_IMAG01_74.jpg (239,317 bytes)\n",
      "Writing to img\\괴력난신\\73\\20250508174431_71bde49b76c764fdb9ad76d46b8d366e_IMAG01_75.jpg (104,035 bytes)\n",
      "Writing to img\\괴력난신\\73\\20250508174431_71bde49b76c764fdb9ad76d46b8d366e_IMAG01_76.jpg (166,562 bytes)\n",
      "Writing to img\\괴력난신\\73\\20250508174431_71bde49b76c764fdb9ad76d46b8d366e_IMAG01_77.jpg (199,864 bytes)\n",
      "Writing to img\\괴력난신\\73\\20250508174431_71bde49b76c764fdb9ad76d46b8d366e_IMAG01_78.jpg (268,304 bytes)\n",
      "Writing to img\\괴력난신\\73\\20250508174431_71bde49b76c764fdb9ad76d46b8d366e_IMAG01_79.jpg (61,192 bytes)\n",
      "Writing to img\\괴력난신\\73\\20250508174431_71bde49b76c764fdb9ad76d46b8d366e_IMAG01_80.jpg (241,758 bytes)\n",
      "Writing to img\\괴력난신\\73\\20250508174431_71bde49b76c764fdb9ad76d46b8d366e_IMAG01_81.jpg (367,677 bytes)\n",
      "Writing to img\\괴력난신\\73\\20250508174431_71bde49b76c764fdb9ad76d46b8d366e_IMAG01_82.jpg (255,949 bytes)\n",
      "Writing to img\\괴력난신\\73\\20250508174431_71bde49b76c764fdb9ad76d46b8d366e_IMAG01_83.jpg (317,491 bytes)\n",
      "Writing to img\\괴력난신\\73\\20250508174431_71bde49b76c764fdb9ad76d46b8d366e_IMAG01_84.jpg (228,912 bytes)\n",
      "Writing to img\\괴력난신\\73\\20250508174431_71bde49b76c764fdb9ad76d46b8d366e_IMAG01_85.jpg (235,961 bytes)\n",
      "Writing to img\\괴력난신\\73\\20250508174431_71bde49b76c764fdb9ad76d46b8d366e_IMAG01_86.jpg (290,662 bytes)\n",
      "Writing to img\\괴력난신\\73\\20250508174431_71bde49b76c764fdb9ad76d46b8d366e_IMAG01_87.jpg (282,515 bytes)\n",
      "Writing to img\\괴력난신\\73\\20250508174431_71bde49b76c764fdb9ad76d46b8d366e_IMAG01_88.jpg (349,849 bytes)\n",
      "Writing to img\\괴력난신\\73\\20250508174431_71bde49b76c764fdb9ad76d46b8d366e_IMAG01_89.jpg (239,900 bytes)\n",
      "Writing to img\\괴력난신\\73\\20250508174431_71bde49b76c764fdb9ad76d46b8d366e_IMAG01_90.jpg (244,025 bytes)\n",
      "Writing to img\\괴력난신\\73\\20250508174431_71bde49b76c764fdb9ad76d46b8d366e_IMAG01_91.jpg (148,577 bytes)\n",
      "Writing to img\\괴력난신\\73\\20250508174431_71bde49b76c764fdb9ad76d46b8d366e_IMAG01_92.jpg (330,491 bytes)\n",
      "Writing to img\\괴력난신\\73\\20250508174431_71bde49b76c764fdb9ad76d46b8d366e_IMAG01_93.jpg (225,223 bytes)\n",
      "Writing to img\\괴력난신\\73\\20250508174431_71bde49b76c764fdb9ad76d46b8d366e_IMAG01_94.jpg (186,567 bytes)\n",
      "Writing to img\\괴력난신\\73\\20250508174431_71bde49b76c764fdb9ad76d46b8d366e_IMAG01_95.jpg (227,848 bytes)\n",
      "Writing to img\\괴력난신\\73\\20250508174431_71bde49b76c764fdb9ad76d46b8d366e_IMAG01_96.jpg (283,260 bytes)\n",
      "Writing to img\\괴력난신\\73\\20250508174431_71bde49b76c764fdb9ad76d46b8d366e_IMAG01_97.jpg (228,859 bytes)\n",
      "Writing to img\\괴력난신\\73\\20250508174431_71bde49b76c764fdb9ad76d46b8d366e_IMAG01_98.jpg (233,527 bytes)\n",
      "Writing to img\\괴력난신\\73\\20250508174431_71bde49b76c764fdb9ad76d46b8d366e_IMAG01_99.jpg (226,394 bytes)\n",
      "Writing to img\\괴력난신\\73\\20250508174431_71bde49b76c764fdb9ad76d46b8d366e_IMAG01_100.jpg (281,423 bytes)\n",
      "Writing to img\\괴력난신\\73\\20250508174431_71bde49b76c764fdb9ad76d46b8d366e_IMAG01_101.jpg (180,300 bytes)\n",
      "Writing to img\\괴력난신\\73\\20250508174431_71bde49b76c764fdb9ad76d46b8d366e_IMAG01_102.jpg (255,773 bytes)\n",
      "Writing to img\\괴력난신\\73\\20250508174431_71bde49b76c764fdb9ad76d46b8d366e_IMAG01_103.jpg (368,527 bytes)\n",
      "Writing to img\\괴력난신\\73\\20250508174431_71bde49b76c764fdb9ad76d46b8d366e_IMAG01_104.jpg (103,697 bytes)\n"
     ]
    }
   ],
   "source": [
    "import requests\n",
    "import os\n",
    "from bs4 import BeautifulSoup\n",
    "\n",
    "\n",
    "def download_one_episode(little, no, url):\n",
    "    # 기본 설정\n",
    "    req_header = {'referer': url}\n",
    "    imgdir_name = f'img\\\\{little}\\\\{no}'\n",
    "\n",
    "    # 이미지 저장 폴더가 없으면 생성\n",
    "    os.makedirs(imgdir_name, exist_ok=True)\n",
    "\n",
    "    # 웹 페이지 요청 및 확인\n",
    "    res = requests.get(url)\n",
    "    res.encoding = 'EUC-KR'\n",
    "    if not res.ok:\n",
    "        print(f'Error Code = {res.status_code}')\n",
    "        exit()\n",
    "    \n",
    "    # 이미지 URL 추출\n",
    "    soup = BeautifulSoup(res.text, 'html.parser')\n",
    "    img_url_list = [img_tag['src'] for img_tag in soup.select(\"img[src*='IMAG01']\")]\n",
    "\n",
    "    # 이미지 다운로드\n",
    "    for img_url in img_url_list:\n",
    "         res = requests.get(img_url, headers=req_header)\n",
    "         if res.ok:\n",
    "             img_data = res.content\n",
    "             file_path = os.path.join(imgdir_name, os.path.basename(img_url))\n",
    "             with open(file_path, 'wb') as file:\n",
    "                 print(f'Writing to {file_path} ({len(img_data):,} bytes)')\n",
    "                 file.write(img_data)\n",
    "         else:\n",
    "             print(f'Error Code = {res.status_code} for {img_url}')\n",
    "\n",
    "\n",
    "download_one_episode('괴력난신',73,'https://comic.naver.com/webtoon/detail?titleId=821597&no=73&week=tue')"
   ]
  }
 ],
 "metadata": {
  "kernelspec": {
   "display_name": "base",
   "language": "python",
   "name": "python3"
  },
  "language_info": {
   "codemirror_mode": {
    "name": "ipython",
    "version": 3
   },
   "file_extension": ".py",
   "mimetype": "text/x-python",
   "name": "python",
   "nbconvert_exporter": "python",
   "pygments_lexer": "ipython3",
   "version": "3.12.7"
  }
 },
 "nbformat": 4,
 "nbformat_minor": 5
}
